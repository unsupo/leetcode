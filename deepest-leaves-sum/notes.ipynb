{
 "cells": [
  {
   "cell_type": "code",
   "execution_count": 3,
   "metadata": {
    "collapsed": true
   },
   "outputs": [
    {
     "data": {
      "text/plain": "[2,\n 3,\n 5,\n 2,\n 3,\n 5,\n 2,\n 3,\n 5,\n 2,\n 3,\n 5,\n 2,\n 3,\n 5,\n 2,\n 3,\n 5,\n 2,\n 3,\n 5,\n 2,\n 3,\n 5,\n 2,\n 3,\n 5,\n 2,\n 3,\n 5]"
     },
     "execution_count": 3,
     "metadata": {},
     "output_type": "execute_result"
    }
   ],
   "source": [
    "# this basically says,\n",
    "# make a list with [2,3,4,5] 10 times but exclude the 4\n",
    "[x for i in range(10) for x in [2,3, 4, 5] if x != 4]"
   ]
  },
  {
   "cell_type": "code",
   "execution_count": 6,
   "outputs": [
    {
     "name": "stdout",
     "output_type": "stream",
     "text": [
      "[] [2, 3, 5, 2, 3, 5]\n"
     ]
    }
   ],
   "source": [
    "b=[]\n",
    "# this basically swaps b with the list and a gets b\n",
    "a,b=b,[x for i in range(2) for x in [2,3, 4, 5] if x != 4]\n",
    "print(a,b)"
   ],
   "metadata": {
    "collapsed": false
   }
  },
  {
   "cell_type": "code",
   "execution_count": null,
   "outputs": [],
   "source": [],
   "metadata": {
    "collapsed": false
   }
  }
 ],
 "metadata": {
  "kernelspec": {
   "display_name": "Python 3",
   "language": "python",
   "name": "python3"
  },
  "language_info": {
   "codemirror_mode": {
    "name": "ipython",
    "version": 2
   },
   "file_extension": ".py",
   "mimetype": "text/x-python",
   "name": "python",
   "nbconvert_exporter": "python",
   "pygments_lexer": "ipython2",
   "version": "2.7.6"
  }
 },
 "nbformat": 4,
 "nbformat_minor": 0
}
