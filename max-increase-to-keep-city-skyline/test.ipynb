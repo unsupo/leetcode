{
 "cells": [
  {
   "cell_type": "code",
   "execution_count": 12,
   "metadata": {
    "collapsed": true
   },
   "outputs": [
    {
     "name": "stdout",
     "output_type": "stream",
     "text": [
      "[[3, 0, 8, 4], [2, 4, 5, 7], [9, 2, 6, 3], [0, 3, 1, 0]]\n"
     ]
    }
   ],
   "source": [
    "grid = [[3,0,8,4],[2,4,5,7],[9,2,6,3],[0,3,1,0]]\n",
    "print(grid)"
   ]
  },
  {
   "cell_type": "code",
   "execution_count": 24,
   "outputs": [
    {
     "name": "stdout",
     "output_type": "stream",
     "text": [
      "130 ns ± 0.567 ns per loop (mean ± std. dev. of 7 runs, 10,000,000 loops each)\n",
      "[[3, 0, 8, 4], [2, 4, 5, 7], [9, 2, 6, 3], [0, 3, 1, 0]]\n"
     ]
    }
   ],
   "source": [
    "%timeit [i for i in grid]\n",
    "print([i for i in grid])"
   ],
   "metadata": {
    "collapsed": false
   }
  },
  {
   "cell_type": "code",
   "execution_count": 26,
   "outputs": [
    {
     "name": "stdout",
     "output_type": "stream",
     "text": [
      "1.32 µs ± 3.47 ns per loop (mean ± std. dev. of 7 runs, 1,000,000 loops each)\n",
      "[[3, 2, 9, 0], [0, 4, 2, 3], [8, 5, 6, 1], [4, 7, 3, 0]]\n"
     ]
    }
   ],
   "source": [
    "%timeit [[grid[i][j] for i in range(len(grid[j]))] for j in range(len(grid))] # 10x slower\n",
    "print([[grid[i][j] for i in range(len(grid[j]))] for j in range(len(grid))])"
   ],
   "metadata": {
    "collapsed": false
   }
  },
  {
   "cell_type": "code",
   "execution_count": 30,
   "outputs": [
    {
     "name": "stdout",
     "output_type": "stream",
     "text": [
      "457 ns ± 8.58 ns per loop (mean ± std. dev. of 7 runs, 1,000,000 loops each)\n"
     ]
    },
    {
     "data": {
      "text/plain": "[[3, 2, 9, 0], [0, 4, 2, 3], [8, 5, 6, 1], [4, 7, 3, 0]]"
     },
     "execution_count": 30,
     "metadata": {},
     "output_type": "execute_result"
    }
   ],
   "source": [
    "%timeit [list(i) for i in zip(*grid)]\n",
    "[list(i) for i in zip(*grid)]"
   ],
   "metadata": {
    "collapsed": false
   }
  },
  {
   "cell_type": "code",
   "execution_count": 35,
   "outputs": [
    {
     "name": "stdout",
     "output_type": "stream",
     "text": [
      "491 ns ± 8.45 ns per loop (mean ± std. dev. of 7 runs, 1,000,000 loops each)\n"
     ]
    },
    {
     "data": {
      "text/plain": "[[0, 9, 2, 3], [3, 2, 4, 0], [1, 6, 5, 8], [0, 3, 7, 4]]"
     },
     "execution_count": 35,
     "metadata": {},
     "output_type": "execute_result"
    }
   ],
   "source": [
    "%timeit [list(i) for i in zip(*grid[::-1])]\n",
    "[list(i) for i in zip(*grid[::-1])]"
   ],
   "metadata": {
    "collapsed": false
   }
  },
  {
   "cell_type": "code",
   "execution_count": 13,
   "outputs": [
    {
     "name": "stdout",
     "output_type": "stream",
     "text": [
      "[8, 7, 9, 3]\n",
      "[9, 4, 8, 7]\n"
     ]
    }
   ],
   "source": [
    "def max_arr(arr):\n",
    "    return [max(i) for i in arr]\n",
    "w = [i for i in grid]\n",
    "n = [list(i) for i in zip(*grid)]\n",
    "west = max_arr(w)\n",
    "east = list(reversed(west))\n",
    "south = max_arr(n)\n",
    "north = list(reversed(south))\n",
    "for i in [west,south]:\n",
    "    print(i)"
   ],
   "metadata": {
    "collapsed": false
   }
  },
  {
   "cell_type": "code",
   "execution_count": 18,
   "outputs": [
    {
     "name": "stdout",
     "output_type": "stream",
     "text": [
      "[[8, 4, 8, 7], [7, 4, 7, 7], [9, 4, 8, 7], [3, 3, 3, 3]]\n"
     ]
    }
   ],
   "source": [
    "newGrid=[]\n",
    "for j in range(len(west)):\n",
    "    n=[]\n",
    "    for i in range(len(south)):\n",
    "        n.append(min(west[j],south[i]))\n",
    "    newGrid.append(n)\n",
    "\n",
    "print(newGrid)"
   ],
   "metadata": {
    "collapsed": false
   }
  },
  {
   "cell_type": "code",
   "execution_count": 19,
   "outputs": [
    {
     "name": "stdout",
     "output_type": "stream",
     "text": [
      "35\n"
     ]
    }
   ],
   "source": [
    "cnt=0\n",
    "# compare max with existing\n",
    "for i in range(len(newGrid)):\n",
    "    for j in range(len(newGrid[i])):\n",
    "        cnt+=newGrid[i][j]-grid[i][j]\n",
    "print(cnt)"
   ],
   "metadata": {
    "collapsed": false
   }
  },
  {
   "cell_type": "code",
   "execution_count": 22,
   "outputs": [
    {
     "data": {
      "text/plain": "35"
     },
     "execution_count": 22,
     "metadata": {},
     "output_type": "execute_result"
    }
   ],
   "source": [
    "def get_count(grid):\n",
    "    def max_arr(arr):\n",
    "        return [max(i) for i in arr]\n",
    "    w = [i for i in grid]\n",
    "    s = [list(i) for i in zip(*grid)]\n",
    "    west = max_arr(w)\n",
    "    south = max_arr(s)\n",
    "    newGrid=[]\n",
    "    for j in range(len(west)):\n",
    "        n=[]\n",
    "        for i in range(len(south)):\n",
    "            n.append(min(west[j],south[i]))\n",
    "        newGrid.append(n)\n",
    "    cnt=0\n",
    "    # compare max with existing\n",
    "    for i in range(len(newGrid)):\n",
    "        for j in range(len(newGrid[i])):\n",
    "            cnt+=newGrid[i][j]-grid[i][j]\n",
    "    return cnt\n",
    "get_count(grid)"
   ],
   "metadata": {
    "collapsed": false
   }
  },
  {
   "cell_type": "code",
   "execution_count": 23,
   "outputs": [
    {
     "name": "stdout",
     "output_type": "stream",
     "text": [
      "5.52 µs ± 644 ns per loop (mean ± std. dev. of 7 runs, 100,000 loops each)\n"
     ]
    }
   ],
   "source": [
    "%timeit get_count(grid)"
   ],
   "metadata": {
    "collapsed": false
   }
  },
  {
   "cell_type": "code",
   "execution_count": 28,
   "outputs": [
    {
     "data": {
      "text/plain": "35"
     },
     "execution_count": 28,
     "metadata": {},
     "output_type": "execute_result"
    }
   ],
   "source": [
    "def get_count_sml(grid):\n",
    "    zGrid = list(zip(*grid))\n",
    "    cnt = 0\n",
    "    for i in range(len(grid)):\n",
    "        w = max(grid[i])\n",
    "        for j in range(len(grid[i])):\n",
    "            s = max(zGrid[j])\n",
    "            cnt += min(w, s) - grid[i][j]\n",
    "    return cnt\n",
    "get_count(grid)"
   ],
   "metadata": {
    "collapsed": false
   }
  },
  {
   "cell_type": "code",
   "execution_count": 29,
   "outputs": [
    {
     "name": "stdout",
     "output_type": "stream",
     "text": [
      "4.22 µs ± 777 ns per loop (mean ± std. dev. of 7 runs, 100,000 loops each)\n"
     ]
    }
   ],
   "source": [
    "%timeit get_count_sml(grid) # slightly faster than above"
   ],
   "metadata": {
    "collapsed": false
   }
  },
  {
   "cell_type": "code",
   "execution_count": 33,
   "outputs": [
    {
     "name": "stdout",
     "output_type": "stream",
     "text": [
      "35\n",
      "4.66 µs ± 843 ns per loop (mean ± std. dev. of 7 runs, 100,000 loops each)\n"
     ]
    }
   ],
   "source": [
    "def better(grid):\n",
    "    maxRows = [max(i) for i in grid]\n",
    "    maxCols = [max([grid[ind][g] for ind, x in enumerate(i)]) for g, i in enumerate(grid)]\n",
    "\n",
    "    count = 0\n",
    "\n",
    "    for indi, m in enumerate(grid):\n",
    "        for ghi, h in enumerate(m):\n",
    "            count += (min(maxRows[indi], maxCols[ghi]) - h)\n",
    "\n",
    "    return count\n",
    "print(better(grid))\n",
    "%timeit better(grid)"
   ],
   "metadata": {
    "collapsed": false
   }
  },
  {
   "cell_type": "code",
   "execution_count": null,
   "outputs": [],
   "source": [
    "# all solutions seem to hover in the 4-8 micro second range"
   ],
   "metadata": {
    "collapsed": false
   }
  }
 ],
 "metadata": {
  "kernelspec": {
   "display_name": "Python 3",
   "language": "python",
   "name": "python3"
  },
  "language_info": {
   "codemirror_mode": {
    "name": "ipython",
    "version": 2
   },
   "file_extension": ".py",
   "mimetype": "text/x-python",
   "name": "python",
   "nbconvert_exporter": "python",
   "pygments_lexer": "ipython2",
   "version": "2.7.6"
  }
 },
 "nbformat": 4,
 "nbformat_minor": 0
}
