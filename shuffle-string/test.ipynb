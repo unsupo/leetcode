{
 "cells": [
  {
   "cell_type": "code",
   "execution_count": 4,
   "metadata": {
    "collapsed": true
   },
   "outputs": [
    {
     "name": "stdout",
     "output_type": "stream",
     "text": [
      "['c', 'o', 'd', 'e', 'l', 'e', 'e', 't']\n",
      "[4, 5, 6, 7, 0, 2, 1, 3]\n",
      "['l', 'e', 'e', 't', 'c', 'd', 'o', 'e']\n"
     ]
    }
   ],
   "source": [
    "from typing import List\n",
    "\n",
    "\n",
    "def restoreString(s: str, indices: List[int]) -> str:\n",
    "    return ''.join([s[i] for i in indices])\n",
    "s='codeleet'\n",
    "indices=[4,5,6,7,0,2,1,3]\n",
    "restoreString(s,indices)\n",
    "print([*s])\n",
    "print(indices)\n",
    "print([s[i] for i in indices])"
   ]
  },
  {
   "cell_type": "markdown",
   "source": [
    "for i in s:\n",
    "    print(i)"
   ],
   "metadata": {
    "collapsed": false
   }
  },
  {
   "cell_type": "code",
   "execution_count": 9,
   "outputs": [
    {
     "name": "stdout",
     "output_type": "stream",
     "text": [
      "[(0, 4), (1, 5), (2, 6), (3, 7), (4, 0), (5, 2), (6, 1), (7, 3)]\n",
      "[(4, 0), (6, 1), (5, 2), (7, 3), (0, 4), (1, 5), (2, 6), (3, 7)]\n"
     ]
    }
   ],
   "source": [
    "d=[(i,indices[i]) for i in range(len(indices))]\n",
    "print(d)\n",
    "d=sorted(d,key=lambda x:x[1])\n",
    "print(d)"
   ],
   "metadata": {
    "collapsed": false
   }
  },
  {
   "cell_type": "code",
   "execution_count": 10,
   "outputs": [
    {
     "data": {
      "text/plain": "'leetcode'"
     },
     "execution_count": 10,
     "metadata": {},
     "output_type": "execute_result"
    }
   ],
   "source": [
    "''.join([s[i[0]] for i in d])"
   ],
   "metadata": {
    "collapsed": false
   }
  },
  {
   "cell_type": "code",
   "execution_count": null,
   "outputs": [],
   "source": [],
   "metadata": {
    "collapsed": false
   }
  }
 ],
 "metadata": {
  "kernelspec": {
   "display_name": "Python 3",
   "language": "python",
   "name": "python3"
  },
  "language_info": {
   "codemirror_mode": {
    "name": "ipython",
    "version": 2
   },
   "file_extension": ".py",
   "mimetype": "text/x-python",
   "name": "python",
   "nbconvert_exporter": "python",
   "pygments_lexer": "ipython2",
   "version": "2.7.6"
  }
 },
 "nbformat": 4,
 "nbformat_minor": 0
}
